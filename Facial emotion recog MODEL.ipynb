{
 "cells": [
  {
   "cell_type": "code",
   "execution_count": 12,
   "id": "5cb6f07f-9ef7-4f81-a298-1895523293d3",
   "metadata": {},
   "outputs": [],
   "source": [
    "import cv2\n",
    "import numpy as np\n",
    "import mediapipe as md\n",
    "import tensorflow as tf\n",
    "from tensorflow.keras.models import load_model\n",
    "get_detection=md.solutions.face_detection\n",
    "face_detection=get_detection.FaceDetection()\n",
    "draw=md.solutions.drawing_utils"
   ]
  },
  {
   "cell_type": "code",
   "execution_count": 13,
   "id": "ebdd5b9e-40bf-428f-9444-81292ac9175a",
   "metadata": {},
   "outputs": [
    {
     "name": "stderr",
     "output_type": "stream",
     "text": [
      "WARNING:absl:Compiled the loaded model, but the compiled metrics have yet to be built. `model.compile_metrics` will be empty until you train or evaluate the model.\n"
     ]
    },
    {
     "name": "stdout",
     "output_type": "stream",
     "text": [
      "\u001b[1m1/1\u001b[0m \u001b[32m━━━━━━━━━━━━━━━━━━━━\u001b[0m\u001b[37m\u001b[0m \u001b[1m0s\u001b[0m 461ms/step\n",
      "\u001b[1m1/1\u001b[0m \u001b[32m━━━━━━━━━━━━━━━━━━━━\u001b[0m\u001b[37m\u001b[0m \u001b[1m0s\u001b[0m 82ms/step\n",
      "\u001b[1m1/1\u001b[0m \u001b[32m━━━━━━━━━━━━━━━━━━━━\u001b[0m\u001b[37m\u001b[0m \u001b[1m0s\u001b[0m 56ms/step\n",
      "\u001b[1m1/1\u001b[0m \u001b[32m━━━━━━━━━━━━━━━━━━━━\u001b[0m\u001b[37m\u001b[0m \u001b[1m0s\u001b[0m 67ms/step\n",
      "\u001b[1m1/1\u001b[0m \u001b[32m━━━━━━━━━━━━━━━━━━━━\u001b[0m\u001b[37m\u001b[0m \u001b[1m0s\u001b[0m 131ms/step\n",
      "\u001b[1m1/1\u001b[0m \u001b[32m━━━━━━━━━━━━━━━━━━━━\u001b[0m\u001b[37m\u001b[0m \u001b[1m0s\u001b[0m 110ms/step\n",
      "\u001b[1m1/1\u001b[0m \u001b[32m━━━━━━━━━━━━━━━━━━━━\u001b[0m\u001b[37m\u001b[0m \u001b[1m0s\u001b[0m 83ms/step\n",
      "\u001b[1m1/1\u001b[0m \u001b[32m━━━━━━━━━━━━━━━━━━━━\u001b[0m\u001b[37m\u001b[0m \u001b[1m0s\u001b[0m 76ms/step\n",
      "\u001b[1m1/1\u001b[0m \u001b[32m━━━━━━━━━━━━━━━━━━━━\u001b[0m\u001b[37m\u001b[0m \u001b[1m0s\u001b[0m 55ms/step\n",
      "\u001b[1m1/1\u001b[0m \u001b[32m━━━━━━━━━━━━━━━━━━━━\u001b[0m\u001b[37m\u001b[0m \u001b[1m0s\u001b[0m 53ms/step\n",
      "\u001b[1m1/1\u001b[0m \u001b[32m━━━━━━━━━━━━━━━━━━━━\u001b[0m\u001b[37m\u001b[0m \u001b[1m0s\u001b[0m 63ms/step\n"
     ]
    }
   ],
   "source": [
    "frames=cv2.VideoCapture(0)\n",
    "model=load_model('cv_cnn_model.h5')\n",
    "label=[\"angry\",\"disgust\",\"fear\",\"happy\",\"neutral\",\"sad\",\"surprised\"]\n",
    "def draw_rectangle(points,img):\n",
    "    crop = img[points[1]-10:points[3]+5, points[0]-5:points[2]+5, :]\n",
    "    \n",
    "    if input is not None:\n",
    "        crop=cv2.cvtColor(img,cv2.COLOR_BGR2GRAY)\n",
    "        inputs = cv2.resize(crop,(48,48))\n",
    "        inputs = np.expand_dims(inputs, axis=(0, -1))\n",
    "        inputs = inputs.astype(\"float32\") / 255.0 \n",
    "        index = model.predict(inputs)\n",
    "        predicted_label = label[np.argmax(index)]\n",
    "        cv2.putText(img,predicted_label,(points[0],points[1]-10),cv2.FONT_HERSHEY_PLAIN,2,[0,255,0],2)\n",
    "        cv2.rectangle(img,pt1=(points[0],points[1]),pt2=(points[2],points[3]),color=[70,100,250],thickness=2) \n",
    "\n",
    "while True:\n",
    "    s,img=frames.read()\n",
    "    imgrgb=cv2.cvtColor(img,cv2.COLOR_BGR2RGB)\n",
    "    result=face_detection.process(imgrgb)\n",
    "    if result.detections:\n",
    "        for id , faces in enumerate(result.detections):\n",
    "            points=faces.location_data.relative_bounding_box\n",
    "            h,w,_=img.shape\n",
    "            al_points=[int(points.xmin*w),int(points.ymin*h),\n",
    "                       int((points.xmin + points.width)*w),int((points.ymin + points.height)*h)]\n",
    "            draw_rectangle(al_points,img)\n",
    "            #draw.draw_detection(img,faces)\n",
    "    cv2.imshow('facial expression',img)\n",
    "    if cv2.waitKey(1) & 0xFF==ord('q'):\n",
    "        break\n",
    "frames.release()\n",
    "cv2.destroyAllWindows()"
   ]
  },
  {
   "cell_type": "code",
   "execution_count": null,
   "id": "18c123bf-f2a9-46e7-b749-e5e39bc48d82",
   "metadata": {},
   "outputs": [],
   "source": []
  }
 ],
 "metadata": {
  "kernelspec": {
   "display_name": "Python 3 (ipykernel)",
   "language": "python",
   "name": "python3"
  },
  "language_info": {
   "codemirror_mode": {
    "name": "ipython",
    "version": 3
   },
   "file_extension": ".py",
   "mimetype": "text/x-python",
   "name": "python",
   "nbconvert_exporter": "python",
   "pygments_lexer": "ipython3",
   "version": "3.12.4"
  }
 },
 "nbformat": 4,
 "nbformat_minor": 5
}
